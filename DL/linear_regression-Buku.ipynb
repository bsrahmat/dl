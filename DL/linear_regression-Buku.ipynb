{
 "cells": [
  {
   "cell_type": "markdown",
   "metadata": {},
   "source": [
    "# Linear Regression Example\n",
    "\n",
    "Linear regression implementation with TensorFlow v2 library.\n",
    "\n",
    "This example is using a low-level approach to better understand all mechanics behind the training process.\n",
    "\n",
    "- Author: Aymeric Damien\n",
    "- Project: https://github.com/aymericdamien/TensorFlow-Examples/"
   ]
  },
  {
   "cell_type": "code",
   "execution_count": 35,
   "metadata": {},
   "outputs": [],
   "source": [
    "from __future__ import absolute_import, division, print_function\n",
    "import tensorflow as tf\n",
    "import numpy as np"
   ]
  },
  {
   "cell_type": "code",
   "execution_count": 37,
   "metadata": {},
   "outputs": [],
   "source": [
    "# Parameter-paramater yang digunakan.\n",
    "kecepatan_pembelajaran = 0.01\n",
    "langkah_pelatihan = 5000\n",
    "tampilkan_langkah = 50"
   ]
  },
  {
   "cell_type": "code",
   "execution_count": 38,
   "metadata": {},
   "outputs": [],
   "source": [
    "# Data Latih yang digunakan.\n",
    "X = np.array([3.3,4.4,5.5,6.71,6.93,4.168,9.779,6.182,7.59,2.167,\n",
    "              7.042,10.791,5.313,7.997,5.654,9.27,3.1])\n",
    "Y = np.array([1.7,2.76,2.09,3.19,1.694,1.573,3.366,2.596,2.53,1.221,\n",
    "              2.827,3.465,1.65,2.904,2.42,2.94,1.3])\n"
   ]
  },
  {
   "cell_type": "code",
   "execution_count": 39,
   "metadata": {},
   "outputs": [],
   "source": [
    "# Bobot dan Bias, diinisialisasi secara acak.\n",
    "rng = np.random\n",
    "W = tf.Variable(rng.randn(), name=\"weight\")\n",
    "b = tf.Variable(rng.randn(), name=\"bias\")\n",
    "\n",
    "# Regresi linier (Wx + b).\n",
    "def Regresi_Linier(x):\n",
    "    return W * x + b\n",
    "\n",
    "# Mean square error (MSE).\n",
    "def mean_square(y_pred, y_true):\n",
    "    return tf.reduce_mean(tf.square(y_pred - y_true))\n",
    "\n",
    "# Mean Absolute Percentage Error (MAPE).\n",
    "def mean_absolute_percentage_error(y_true, y_pred):\n",
    "    y_true, y_pred = np.array(y_true), np.array(y_pred)\n",
    "    return np.mean(np.abs((y_true - y_pred) / y_true)) * 100\n",
    "\n",
    "# Pengoptimal Penurunan Gradien Stochastic.\n",
    "optimizer = tf.optimizers.SGD(kecepatan_pembelajaran)"
   ]
  },
  {
   "cell_type": "code",
   "execution_count": 40,
   "metadata": {},
   "outputs": [],
   "source": [
    "# Fungsi untuk Proses pengoptimalan. \n",
    "from math import sqrt\n",
    "def run_optimization():\n",
    "    # Bungkus komputasi di dalam GradientTape untuk diferensiasi otomatis.\n",
    "    with tf.GradientTape() as g:\n",
    "        pred = Regresi_Linier(X)\n",
    "        mse  = mean_square(pred, Y)\n",
    "        rmse = sqrt(mse)\n",
    "        MAPE = mean_absolute_percentage_error(Y, pred)\n",
    "        Persentase_keberhasilan = 100-MAPE\n",
    "\n",
    "    # Hitung gradien.\n",
    "    gradients = g.gradient(mse, [W, b])\n",
    "    \n",
    "    # Perbarui W dan b menggunakan gradien berikut.\n",
    "    optimizer.apply_gradients(zip(gradients, [W, b]))"
   ]
  },
  {
   "cell_type": "code",
   "execution_count": 41,
   "metadata": {},
   "outputs": [
    {
     "name": "stdout",
     "output_type": "stream",
     "text": [
      "langkah: 50, mse: 0.926539, rmse: 0.962569, MAPE: 41.027832, Persentase_keberhasilan: 58.972168, W: 0.604026, b: -1.699493\n",
      "langkah: 100, mse: 0.759813, rmse: 0.871673, MAPE: 36.733757, Persentase_keberhasilan: 63.266243, W: 0.563700, b: -1.413599\n",
      "langkah: 150, mse: 0.629062, rmse: 0.793134, MAPE: 32.931072, Persentase_keberhasilan: 67.068928, W: 0.527988, b: -1.160421\n",
      "langkah: 200, mse: 0.526524, rmse: 0.725620, MAPE: 29.926933, Persentase_keberhasilan: 70.073067, W: 0.496364, b: -0.936216\n",
      "langkah: 250, mse: 0.446112, rmse: 0.667916, MAPE: 27.299526, Persentase_keberhasilan: 72.700474, W: 0.468358, b: -0.737667\n",
      "langkah: 300, mse: 0.383050, rmse: 0.618911, MAPE: 24.972788, Persentase_keberhasilan: 75.027212, W: 0.443557, b: -0.561840\n",
      "langkah: 350, mse: 0.333596, rmse: 0.577578, MAPE: 22.912310, Persentase_keberhasilan: 77.087690, W: 0.421594, b: -0.406134\n",
      "langkah: 400, mse: 0.294813, rmse: 0.542967, MAPE: 21.087627, Persentase_keberhasilan: 78.912373, W: 0.402145, b: -0.268246\n",
      "langkah: 450, mse: 0.264398, rmse: 0.514196, MAPE: 19.471753, Persentase_keberhasilan: 80.528247, W: 0.384921, b: -0.146137\n",
      "langkah: 500, mse: 0.240546, rmse: 0.490455, MAPE: 18.040794, Persentase_keberhasilan: 81.959206, W: 0.369668, b: -0.038003\n",
      "langkah: 550, mse: 0.221841, rmse: 0.471000, MAPE: 16.773586, Persentase_keberhasilan: 83.226414, W: 0.356161, b: 0.057758\n",
      "langkah: 600, mse: 0.207172, rmse: 0.455161, MAPE: 15.718643, Persentase_keberhasilan: 84.281357, W: 0.344200, b: 0.142560\n",
      "langkah: 650, mse: 0.195668, rmse: 0.442343, MAPE: 14.995269, Persentase_keberhasilan: 85.004731, W: 0.333607, b: 0.217657\n",
      "langkah: 700, mse: 0.186646, rmse: 0.432026, MAPE: 14.354676, Persentase_keberhasilan: 85.645324, W: 0.324226, b: 0.284161\n",
      "langkah: 750, mse: 0.179571, rmse: 0.423758, MAPE: 13.990142, Persentase_keberhasilan: 86.009858, W: 0.315919, b: 0.343054\n",
      "langkah: 800, mse: 0.174023, rmse: 0.417160, MAPE: 13.766340, Persentase_keberhasilan: 86.233660, W: 0.308563, b: 0.395208\n",
      "langkah: 850, mse: 0.169672, rmse: 0.411912, MAPE: 13.614958, Persentase_keberhasilan: 86.385042, W: 0.302048, b: 0.441394\n",
      "langkah: 900, mse: 0.166259, rmse: 0.407749, MAPE: 13.480898, Persentase_keberhasilan: 86.519102, W: 0.296279, b: 0.482294\n",
      "langkah: 950, mse: 0.163583, rmse: 0.404454, MAPE: 13.362642, Persentase_keberhasilan: 86.637358, W: 0.291170, b: 0.518514\n",
      "langkah: 1000, mse: 0.161485, rmse: 0.401852, MAPE: 13.300038, Persentase_keberhasilan: 86.699962, W: 0.286646, b: 0.550589\n",
      "langkah: 1050, mse: 0.159839, rmse: 0.399799, MAPE: 13.244597, Persentase_keberhasilan: 86.755403, W: 0.282639, b: 0.578993\n",
      "langkah: 1100, mse: 0.158548, rmse: 0.398181, MAPE: 13.195502, Persentase_keberhasilan: 86.804498, W: 0.279091, b: 0.604147\n",
      "langkah: 1150, mse: 0.157536, rmse: 0.396908, MAPE: 13.184831, Persentase_keberhasilan: 86.815169, W: 0.275949, b: 0.626423\n",
      "langkah: 1200, mse: 0.156743, rmse: 0.395907, MAPE: 13.278304, Persentase_keberhasilan: 86.721696, W: 0.273167, b: 0.646149\n",
      "langkah: 1250, mse: 0.156120, rmse: 0.395120, MAPE: 13.361073, Persentase_keberhasilan: 86.638927, W: 0.270703, b: 0.663617\n",
      "langkah: 1300, mse: 0.155632, rmse: 0.394502, MAPE: 13.434377, Persentase_keberhasilan: 86.565623, W: 0.268521, b: 0.679088\n",
      "langkah: 1350, mse: 0.155249, rmse: 0.394017, MAPE: 13.499290, Persentase_keberhasilan: 86.500710, W: 0.266589, b: 0.692787\n",
      "langkah: 1400, mse: 0.154949, rmse: 0.393635, MAPE: 13.556773, Persentase_keberhasilan: 86.443227, W: 0.264877, b: 0.704919\n",
      "langkah: 1450, mse: 0.154713, rmse: 0.393336, MAPE: 13.607681, Persentase_keberhasilan: 86.392319, W: 0.263362, b: 0.715662\n",
      "langkah: 1500, mse: 0.154529, rmse: 0.393101, MAPE: 13.652760, Persentase_keberhasilan: 86.347240, W: 0.262020, b: 0.725176\n",
      "langkah: 1550, mse: 0.154384, rmse: 0.392917, MAPE: 13.692682, Persentase_keberhasilan: 86.307318, W: 0.260832, b: 0.733601\n",
      "langkah: 1600, mse: 0.154270, rmse: 0.392773, MAPE: 13.728037, Persentase_keberhasilan: 86.271963, W: 0.259779, b: 0.741063\n",
      "langkah: 1650, mse: 0.154181, rmse: 0.392659, MAPE: 13.759347, Persentase_keberhasilan: 86.240653, W: 0.258847, b: 0.747670\n",
      "langkah: 1700, mse: 0.154112, rmse: 0.392570, MAPE: 13.787070, Persentase_keberhasilan: 86.212930, W: 0.258022, b: 0.753521\n",
      "langkah: 1750, mse: 0.154057, rmse: 0.392501, MAPE: 13.811621, Persentase_keberhasilan: 86.188379, W: 0.257291, b: 0.758703\n",
      "langkah: 1800, mse: 0.154014, rmse: 0.392446, MAPE: 13.833364, Persentase_keberhasilan: 86.166636, W: 0.256644, b: 0.763291\n",
      "langkah: 1850, mse: 0.153980, rmse: 0.392403, MAPE: 13.852618, Persentase_keberhasilan: 86.147382, W: 0.256071, b: 0.767355\n",
      "langkah: 1900, mse: 0.153954, rmse: 0.392369, MAPE: 13.869670, Persentase_keberhasilan: 86.130330, W: 0.255563, b: 0.770954\n",
      "langkah: 1950, mse: 0.153933, rmse: 0.392343, MAPE: 13.884770, Persentase_keberhasilan: 86.115230, W: 0.255113, b: 0.774140\n",
      "langkah: 2000, mse: 0.153917, rmse: 0.392322, MAPE: 13.898143, Persentase_keberhasilan: 86.101857, W: 0.254715, b: 0.776963\n",
      "langkah: 2050, mse: 0.153904, rmse: 0.392306, MAPE: 13.909984, Persentase_keberhasilan: 86.090016, W: 0.254363, b: 0.779461\n",
      "langkah: 2100, mse: 0.153894, rmse: 0.392293, MAPE: 13.920472, Persentase_keberhasilan: 86.079528, W: 0.254051, b: 0.781675\n",
      "langkah: 2150, mse: 0.153886, rmse: 0.392283, MAPE: 13.929757, Persentase_keberhasilan: 86.070243, W: 0.253774, b: 0.783635\n",
      "langkah: 2200, mse: 0.153880, rmse: 0.392275, MAPE: 13.937980, Persentase_keberhasilan: 86.062020, W: 0.253529, b: 0.785370\n",
      "langkah: 2250, mse: 0.153875, rmse: 0.392269, MAPE: 13.945265, Persentase_keberhasilan: 86.054735, W: 0.253313, b: 0.786907\n",
      "langkah: 2300, mse: 0.153871, rmse: 0.392265, MAPE: 13.951714, Persentase_keberhasilan: 86.048286, W: 0.253121, b: 0.788268\n",
      "langkah: 2350, mse: 0.153868, rmse: 0.392261, MAPE: 13.957427, Persentase_keberhasilan: 86.042573, W: 0.252951, b: 0.789474\n",
      "langkah: 2400, mse: 0.153866, rmse: 0.392258, MAPE: 13.962484, Persentase_keberhasilan: 86.037516, W: 0.252800, b: 0.790541\n",
      "langkah: 2450, mse: 0.153864, rmse: 0.392255, MAPE: 13.966961, Persentase_keberhasilan: 86.033039, W: 0.252667, b: 0.791487\n",
      "langkah: 2500, mse: 0.153863, rmse: 0.392254, MAPE: 13.970928, Persentase_keberhasilan: 86.029072, W: 0.252549, b: 0.792324\n",
      "langkah: 2550, mse: 0.153862, rmse: 0.392252, MAPE: 13.974440, Persentase_keberhasilan: 86.025560, W: 0.252444, b: 0.793065\n",
      "langkah: 2600, mse: 0.153861, rmse: 0.392251, MAPE: 13.977551, Persentase_keberhasilan: 86.022449, W: 0.252351, b: 0.793721\n",
      "langkah: 2650, mse: 0.153860, rmse: 0.392250, MAPE: 13.980306, Persentase_keberhasilan: 86.019694, W: 0.252270, b: 0.794303\n",
      "langkah: 2700, mse: 0.153860, rmse: 0.392249, MAPE: 13.982743, Persentase_keberhasilan: 86.017257, W: 0.252197, b: 0.794817\n",
      "langkah: 2750, mse: 0.153859, rmse: 0.392249, MAPE: 13.984904, Persentase_keberhasilan: 86.015096, W: 0.252133, b: 0.795273\n",
      "langkah: 2800, mse: 0.153859, rmse: 0.392248, MAPE: 13.986820, Persentase_keberhasilan: 86.013180, W: 0.252076, b: 0.795677\n",
      "langkah: 2850, mse: 0.153859, rmse: 0.392248, MAPE: 13.988512, Persentase_keberhasilan: 86.011488, W: 0.252025, b: 0.796034\n",
      "langkah: 2900, mse: 0.153858, rmse: 0.392248, MAPE: 13.990013, Persentase_keberhasilan: 86.009987, W: 0.251981, b: 0.796351\n",
      "langkah: 2950, mse: 0.153858, rmse: 0.392248, MAPE: 13.991343, Persentase_keberhasilan: 86.008657, W: 0.251941, b: 0.796632\n",
      "langkah: 3000, mse: 0.153858, rmse: 0.392248, MAPE: 13.992518, Persentase_keberhasilan: 86.007482, W: 0.251906, b: 0.796880\n",
      "langkah: 3050, mse: 0.153858, rmse: 0.392247, MAPE: 13.993559, Persentase_keberhasilan: 86.006441, W: 0.251875, b: 0.797100\n",
      "langkah: 3100, mse: 0.153858, rmse: 0.392247, MAPE: 13.994483, Persentase_keberhasilan: 86.005517, W: 0.251847, b: 0.797294\n",
      "langkah: 3150, mse: 0.153858, rmse: 0.392247, MAPE: 13.995297, Persentase_keberhasilan: 86.004703, W: 0.251823, b: 0.797467\n",
      "langkah: 3200, mse: 0.153858, rmse: 0.392247, MAPE: 13.996023, Persentase_keberhasilan: 86.003977, W: 0.251802, b: 0.797619\n",
      "langkah: 3250, mse: 0.153858, rmse: 0.392247, MAPE: 13.996665, Persentase_keberhasilan: 86.003335, W: 0.251783, b: 0.797755\n",
      "langkah: 3300, mse: 0.153858, rmse: 0.392247, MAPE: 13.997230, Persentase_keberhasilan: 86.002770, W: 0.251766, b: 0.797874\n",
      "langkah: 3350, mse: 0.153858, rmse: 0.392247, MAPE: 13.997733, Persentase_keberhasilan: 86.002267, W: 0.251751, b: 0.797980\n",
      "langkah: 3400, mse: 0.153858, rmse: 0.392247, MAPE: 13.998179, Persentase_keberhasilan: 86.001821, W: 0.251737, b: 0.798074\n"
     ]
    },
    {
     "name": "stdout",
     "output_type": "stream",
     "text": [
      "langkah: 3450, mse: 0.153858, rmse: 0.392247, MAPE: 13.998573, Persentase_keberhasilan: 86.001427, W: 0.251726, b: 0.798157\n",
      "langkah: 3500, mse: 0.153858, rmse: 0.392247, MAPE: 13.998920, Persentase_keberhasilan: 86.001080, W: 0.251715, b: 0.798231\n",
      "langkah: 3550, mse: 0.153858, rmse: 0.392247, MAPE: 13.999228, Persentase_keberhasilan: 86.000772, W: 0.251706, b: 0.798296\n",
      "langkah: 3600, mse: 0.153858, rmse: 0.392247, MAPE: 13.999504, Persentase_keberhasilan: 86.000496, W: 0.251698, b: 0.798354\n",
      "langkah: 3650, mse: 0.153858, rmse: 0.392247, MAPE: 13.999746, Persentase_keberhasilan: 86.000254, W: 0.251691, b: 0.798405\n",
      "langkah: 3700, mse: 0.153858, rmse: 0.392247, MAPE: 13.999961, Persentase_keberhasilan: 86.000039, W: 0.251684, b: 0.798451\n",
      "langkah: 3750, mse: 0.153858, rmse: 0.392247, MAPE: 14.000152, Persentase_keberhasilan: 85.999848, W: 0.251679, b: 0.798491\n",
      "langkah: 3800, mse: 0.153858, rmse: 0.392247, MAPE: 14.000319, Persentase_keberhasilan: 85.999681, W: 0.251674, b: 0.798526\n",
      "langkah: 3850, mse: 0.153858, rmse: 0.392247, MAPE: 14.000468, Persentase_keberhasilan: 85.999532, W: 0.251669, b: 0.798558\n",
      "langkah: 3900, mse: 0.153858, rmse: 0.392247, MAPE: 14.000601, Persentase_keberhasilan: 85.999399, W: 0.251665, b: 0.798586\n",
      "langkah: 3950, mse: 0.153858, rmse: 0.392247, MAPE: 14.000717, Persentase_keberhasilan: 85.999283, W: 0.251662, b: 0.798610\n",
      "langkah: 4000, mse: 0.153858, rmse: 0.392247, MAPE: 14.000820, Persentase_keberhasilan: 85.999180, W: 0.251659, b: 0.798632\n",
      "langkah: 4050, mse: 0.153858, rmse: 0.392247, MAPE: 14.000913, Persentase_keberhasilan: 85.999087, W: 0.251656, b: 0.798651\n",
      "langkah: 4100, mse: 0.153858, rmse: 0.392247, MAPE: 14.000994, Persentase_keberhasilan: 85.999006, W: 0.251654, b: 0.798669\n",
      "langkah: 4150, mse: 0.153858, rmse: 0.392247, MAPE: 14.001064, Persentase_keberhasilan: 85.998936, W: 0.251652, b: 0.798684\n",
      "langkah: 4200, mse: 0.153858, rmse: 0.392247, MAPE: 14.001129, Persentase_keberhasilan: 85.998871, W: 0.251650, b: 0.798697\n",
      "langkah: 4250, mse: 0.153858, rmse: 0.392247, MAPE: 14.001185, Persentase_keberhasilan: 85.998815, W: 0.251648, b: 0.798709\n",
      "langkah: 4300, mse: 0.153858, rmse: 0.392247, MAPE: 14.001236, Persentase_keberhasilan: 85.998764, W: 0.251646, b: 0.798720\n",
      "langkah: 4350, mse: 0.153858, rmse: 0.392247, MAPE: 14.001278, Persentase_keberhasilan: 85.998722, W: 0.251645, b: 0.798728\n",
      "langkah: 4400, mse: 0.153858, rmse: 0.392247, MAPE: 14.001320, Persentase_keberhasilan: 85.998680, W: 0.251644, b: 0.798737\n",
      "langkah: 4450, mse: 0.153858, rmse: 0.392247, MAPE: 14.001351, Persentase_keberhasilan: 85.998649, W: 0.251643, b: 0.798744\n",
      "langkah: 4500, mse: 0.153858, rmse: 0.392247, MAPE: 14.001381, Persentase_keberhasilan: 85.998619, W: 0.251642, b: 0.798750\n",
      "langkah: 4550, mse: 0.153858, rmse: 0.392247, MAPE: 14.001408, Persentase_keberhasilan: 85.998592, W: 0.251641, b: 0.798756\n",
      "langkah: 4600, mse: 0.153858, rmse: 0.392247, MAPE: 14.001436, Persentase_keberhasilan: 85.998564, W: 0.251640, b: 0.798762\n",
      "langkah: 4650, mse: 0.153858, rmse: 0.392247, MAPE: 14.001456, Persentase_keberhasilan: 85.998544, W: 0.251640, b: 0.798766\n",
      "langkah: 4700, mse: 0.153858, rmse: 0.392247, MAPE: 14.001471, Persentase_keberhasilan: 85.998529, W: 0.251639, b: 0.798769\n",
      "langkah: 4750, mse: 0.153858, rmse: 0.392247, MAPE: 14.001485, Persentase_keberhasilan: 85.998515, W: 0.251639, b: 0.798772\n",
      "langkah: 4800, mse: 0.153858, rmse: 0.392247, MAPE: 14.001498, Persentase_keberhasilan: 85.998502, W: 0.251639, b: 0.798775\n",
      "langkah: 4850, mse: 0.153858, rmse: 0.392247, MAPE: 14.001515, Persentase_keberhasilan: 85.998485, W: 0.251638, b: 0.798778\n",
      "langkah: 4900, mse: 0.153858, rmse: 0.392247, MAPE: 14.001529, Persentase_keberhasilan: 85.998471, W: 0.251638, b: 0.798781\n",
      "langkah: 4950, mse: 0.153858, rmse: 0.392247, MAPE: 14.001543, Persentase_keberhasilan: 85.998457, W: 0.251637, b: 0.798784\n",
      "langkah: 5000, mse: 0.153858, rmse: 0.392247, MAPE: 14.001557, Persentase_keberhasilan: 85.998443, W: 0.251637, b: 0.798787\n"
     ]
    }
   ],
   "source": [
    "# Jalankan pelatihan untuk sejumlah langkah tertentu.\n",
    "for langkah in range(1, langkah_pelatihan + 1):\n",
    "    # Jalankan pengoptimalan untuk memperbarui nilai W dan b.\n",
    "    run_optimization()\n",
    "    \n",
    "    if langkah % tampilkan_langkah == 0:\n",
    "        pred = Regresi_Linier(X)\n",
    "        mse = mean_square(pred, Y)\n",
    "        rmse = sqrt(mse)\n",
    "        MAPE = mean_absolute_percentage_error(Y, pred)\n",
    "        Persentase_keberhasilan = 100-MAPE\n",
    "        \n",
    "        print(\"langkah: %i, mse: %f, rmse: %f, MAPE: %f, Persentase_keberhasilan: %f, W: %f, b: %f\" % (langkah, mse, rmse,MAPE,Persentase_keberhasilan, W.numpy(), b.numpy()))"
   ]
  },
  {
   "cell_type": "code",
   "execution_count": 45,
   "metadata": {},
   "outputs": [
    {
     "data": {
      "image/png": "[encoded data removed]",
      "text/plain": [
       "<Figure size 432x288 with 1 Axes>"
      ]
     },
     "metadata": {
      "needs_background": "light"
     },
     "output_type": "display_data"
    }
   ],
   "source": [
    "# Tampilan grafis\n",
    "import matplotlib.pyplot as plt\n",
    "plt.plot(X, Y, 'ro', label='Data asli')\n",
    "plt.plot(X, np.array(W * X + b), label='Hasil Prediksi Regresi Linear')\n",
    "plt.legend()\n",
    "plt.show()"
   ]
  },
  {
   "cell_type": "code",
   "execution_count": null,
   "metadata": {},
   "outputs": [],
   "source": []
  }
 ],
 "metadata": {
  "kernelspec": {
   "display_name": "Python 3",
   "language": "python",
   "name": "python3"
  },
  "language_info": {
   "codemirror_mode": {
    "name": "ipython",
    "version": 3
   },
   "file_extension": ".py",
   "mimetype": "text/x-python",
   "name": "python",
   "nbconvert_exporter": "python",
   "pygments_lexer": "ipython3",
   "version": "3.8.8"
  }
 },
 "nbformat": 4,
 "nbformat_minor": 2
}
