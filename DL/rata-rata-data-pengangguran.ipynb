{
 "cells": [
  {
   "cell_type": "code",
   "execution_count": 2,
   "id": "continental-tourism",
   "metadata": {},
   "outputs": [
    {
     "data": {
      "text/plain": [
       "10.75"
      ]
     },
     "execution_count": 2,
     "metadata": {},
     "output_type": "execute_result"
    }
   ],
   "source": [
    "(10.26+11.24)/2"
   ]
  },
  {
   "cell_type": "code",
   "execution_count": 6,
   "id": "innovative-cuisine",
   "metadata": {},
   "outputs": [
    {
     "data": {
      "text/plain": [
       "10.364999999999998"
      ]
     },
     "execution_count": 6,
     "metadata": {},
     "output_type": "execute_result"
    }
   ],
   "source": [
    "(10.45+10.28)/2\n"
   ]
  },
  {
   "cell_type": "code",
   "execution_count": 7,
   "id": "arctic-germany",
   "metadata": {},
   "outputs": [
    {
     "data": {
      "text/plain": [
       "9.43"
      ]
     },
     "execution_count": 7,
     "metadata": {},
     "output_type": "execute_result"
    }
   ],
   "source": [
    "(9.75+9.11)/2\n"
   ]
  },
  {
   "cell_type": "code",
   "execution_count": 8,
   "id": "dietary-single",
   "metadata": {},
   "outputs": [
    {
     "data": {
      "text/plain": [
       "8.425"
      ]
     },
     "execution_count": 8,
     "metadata": {},
     "output_type": "execute_result"
    }
   ],
   "source": [
    "(8.46+8.39)/2\n"
   ]
  },
  {
   "cell_type": "code",
   "execution_count": 1,
   "id": "funky-transition",
   "metadata": {},
   "outputs": [
    {
     "data": {
      "text/plain": [
       "8.43"
      ]
     },
     "execution_count": 1,
     "metadata": {},
     "output_type": "execute_result"
    }
   ],
   "source": [
    "8.43"
   ]
  },
  {
   "cell_type": "code",
   "execution_count": 2,
   "id": "concerned-bailey",
   "metadata": {},
   "outputs": [
    {
     "data": {
      "text/plain": [
       "8.005"
      ]
     },
     "execution_count": 2,
     "metadata": {},
     "output_type": "execute_result"
    }
   ],
   "source": [
    "(8.14+7.87)/2\n"
   ]
  },
  {
   "cell_type": "code",
   "execution_count": 3,
   "id": "latest-specific",
   "metadata": {},
   "outputs": [
    {
     "data": {
      "text/plain": [
       "8.01"
      ]
     },
     "execution_count": 3,
     "metadata": {},
     "output_type": "execute_result"
    }
   ],
   "source": [
    "8.01"
   ]
  },
  {
   "cell_type": "code",
   "execution_count": 4,
   "id": "governing-strengthening",
   "metadata": {},
   "outputs": [
    {
     "data": {
      "text/plain": [
       "7.275"
      ]
     },
     "execution_count": 4,
     "metadata": {},
     "output_type": "execute_result"
    }
   ],
   "source": [
    "(7.41+7.14)/2\n"
   ]
  },
  {
   "cell_type": "code",
   "execution_count": 5,
   "id": "empirical-peoples",
   "metadata": {},
   "outputs": [
    {
     "data": {
      "text/plain": [
       "7.28"
      ]
     },
     "execution_count": 5,
     "metadata": {},
     "output_type": "execute_result"
    }
   ],
   "source": [
    "7.28"
   ]
  },
  {
   "cell_type": "code",
   "execution_count": 6,
   "id": "laughing-russell",
   "metadata": {},
   "outputs": [
    {
     "data": {
      "text/plain": [
       "7.220000000000001"
      ]
     },
     "execution_count": 6,
     "metadata": {},
     "output_type": "execute_result"
    }
   ],
   "source": [
    "(6.96+7.48)/2\n"
   ]
  },
  {
   "cell_type": "code",
   "execution_count": 7,
   "id": "curious-belarus",
   "metadata": {},
   "outputs": [
    {
     "data": {
      "text/plain": [
       "6.25"
      ]
     },
     "execution_count": 7,
     "metadata": {},
     "output_type": "execute_result"
    }
   ],
   "source": [
    "(6.37+6.13)/2\n"
   ]
  },
  {
   "cell_type": "code",
   "execution_count": 8,
   "id": "addressed-meaning",
   "metadata": {},
   "outputs": [
    {
     "data": {
      "text/plain": [
       "6.025"
      ]
     },
     "execution_count": 8,
     "metadata": {},
     "output_type": "execute_result"
    }
   ],
   "source": [
    "(5.88+6.17)/2\n"
   ]
  },
  {
   "cell_type": "code",
   "execution_count": 9,
   "id": "sapphire-stephen",
   "metadata": {},
   "outputs": [
    {
     "data": {
      "text/plain": [
       "6.03"
      ]
     },
     "execution_count": 9,
     "metadata": {},
     "output_type": "execute_result"
    }
   ],
   "source": [
    "6.03"
   ]
  },
  {
   "cell_type": "code",
   "execution_count": 10,
   "id": "narrow-buffer",
   "metadata": {},
   "outputs": [
    {
     "data": {
      "text/plain": [
       "5.82"
      ]
     },
     "execution_count": 10,
     "metadata": {},
     "output_type": "execute_result"
    }
   ],
   "source": [
    "(5.70+5.94)/2\n"
   ]
  },
  {
   "cell_type": "code",
   "execution_count": 11,
   "id": "adolescent-allergy",
   "metadata": {},
   "outputs": [
    {
     "data": {
      "text/plain": [
       "5.994999999999999"
      ]
     },
     "execution_count": 11,
     "metadata": {},
     "output_type": "execute_result"
    }
   ],
   "source": [
    "(5.81+6.18)/2\n"
   ]
  },
  {
   "cell_type": "code",
   "execution_count": 12,
   "id": "flush-michael",
   "metadata": {},
   "outputs": [
    {
     "data": {
      "text/plain": [
       "5.555"
      ]
     },
     "execution_count": 12,
     "metadata": {},
     "output_type": "execute_result"
    }
   ],
   "source": [
    "(5.50+5.61)/2\n"
   ]
  },
  {
   "cell_type": "code",
   "execution_count": 13,
   "id": "charming-spectrum",
   "metadata": {},
   "outputs": [
    {
     "data": {
      "text/plain": [
       "5.56"
      ]
     },
     "execution_count": 13,
     "metadata": {},
     "output_type": "execute_result"
    }
   ],
   "source": [
    "5.56"
   ]
  },
  {
   "cell_type": "code",
   "execution_count": 14,
   "id": "addressed-polymer",
   "metadata": {},
   "outputs": [
    {
     "data": {
      "text/plain": [
       "5.415"
      ]
     },
     "execution_count": 14,
     "metadata": {},
     "output_type": "execute_result"
    }
   ],
   "source": [
    "(5.33+5.50)/2\n"
   ]
  },
  {
   "cell_type": "code",
   "execution_count": 15,
   "id": "closing-investigator",
   "metadata": {},
   "outputs": [
    {
     "data": {
      "text/plain": [
       "5.42"
      ]
     },
     "execution_count": 15,
     "metadata": {},
     "output_type": "execute_result"
    }
   ],
   "source": [
    "5.42"
   ]
  },
  {
   "cell_type": "code",
   "execution_count": 16,
   "id": "respected-delaware",
   "metadata": {},
   "outputs": [
    {
     "data": {
      "text/plain": [
       "5.199999999999999"
      ]
     },
     "execution_count": 16,
     "metadata": {},
     "output_type": "execute_result"
    }
   ],
   "source": [
    "(5.10+5.30)/2\n"
   ]
  },
  {
   "cell_type": "code",
   "execution_count": 17,
   "id": "desirable-transcription",
   "metadata": {},
   "outputs": [
    {
     "data": {
      "text/plain": [
       "5.2"
      ]
     },
     "execution_count": 17,
     "metadata": {},
     "output_type": "execute_result"
    }
   ],
   "source": [
    "5.20"
   ]
  },
  {
   "cell_type": "code",
   "execution_count": 18,
   "id": "religious-broadcast",
   "metadata": {},
   "outputs": [
    {
     "data": {
      "text/plain": [
       "5.105"
      ]
     },
     "execution_count": 18,
     "metadata": {},
     "output_type": "execute_result"
    }
   ],
   "source": [
    "(4.98+5.23)/2\n"
   ]
  },
  {
   "cell_type": "code",
   "execution_count": 19,
   "id": "specific-hawaiian",
   "metadata": {},
   "outputs": [
    {
     "data": {
      "text/plain": [
       "5.11"
      ]
     },
     "execution_count": 19,
     "metadata": {},
     "output_type": "execute_result"
    }
   ],
   "source": [
    "5.11"
   ]
  },
  {
   "cell_type": "code",
   "execution_count": 20,
   "id": "annoying-surgery",
   "metadata": {},
   "outputs": [
    {
     "data": {
      "text/plain": [
       "6.005000000000001"
      ]
     },
     "execution_count": 20,
     "metadata": {},
     "output_type": "execute_result"
    }
   ],
   "source": [
    "(4.94+7.07)/2\n"
   ]
  },
  {
   "cell_type": "code",
   "execution_count": 21,
   "id": "contained-moisture",
   "metadata": {},
   "outputs": [
    {
     "data": {
      "text/plain": [
       "6.01"
      ]
     },
     "execution_count": 21,
     "metadata": {},
     "output_type": "execute_result"
    }
   ],
   "source": [
    "6.01"
   ]
  },
  {
   "cell_type": "code",
   "execution_count": null,
   "id": "bound-trust",
   "metadata": {},
   "outputs": [],
   "source": []
  }
 ],
 "metadata": {
  "kernelspec": {
   "display_name": "Python 3",
   "language": "python",
   "name": "python3"
  },
  "language_info": {
   "codemirror_mode": {
    "name": "ipython",
    "version": 3
   },
   "file_extension": ".py",
   "mimetype": "text/x-python",
   "name": "python",
   "nbconvert_exporter": "python",
   "pygments_lexer": "ipython3",
   "version": "3.8.8"
  }
 },
 "nbformat": 4,
 "nbformat_minor": 5
}
