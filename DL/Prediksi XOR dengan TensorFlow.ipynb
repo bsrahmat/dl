{
 "cells": [
  {
   "cell_type": "markdown",
   "id": "passing-sailing",
   "metadata": {},
   "source": [
    "![Gerbang_XOR.jpg](Gerbang_XOR.jpg)"
   ]
  },
  {
   "cell_type": "code",
   "execution_count": 1,
   "id": "acute-maria",
   "metadata": {},
   "outputs": [
    {
     "name": "stdout",
     "output_type": "stream",
     "text": [
      "Final Prediction [[0.3992512]\n",
      " [0.4418983]\n",
      " [0.4125384]\n",
      " [0.4523002]]\n"
     ]
    }
   ],
   "source": [
    "\n",
    "#Listing 3.18. Prediksi XOR \n",
    "#------------------------------------------------------------------------------------\n",
    "\n",
    "import tensorflow as tf\n",
    "import numpy as np\n",
    "\n",
    "tf.compat.v1.disable_eager_execution()\n",
    "\n",
    "#------------------------------------------------------------------------------------\n",
    "# Buat placeholder untuk label input dan output pelatihan\n",
    "#------------------------------------------------------------------------------------\n",
    "\n",
    "x_ = tf.compat.v1.placeholder(tf.float32, shape=[4,2], name=\"x-input\")\n",
    "y_ = tf.compat.v1.placeholder(tf.float32, shape=[4,1], name=\"y-output\")\n",
    "\n",
    "#------------------------------------------------------------------------------------\n",
    "# Tentukan bobot masing-masing ke lapisan tersembunyi dan keluaran.\n",
    "#------------------------------------------------------------------------------------\n",
    "\n",
    "w1 = tf.Variable(tf.random.uniform([2,2], -1, 1), name=\"Weights1\")\n",
    "w2 = tf.Variable(tf.random.uniform([2,1], -1, 1), name=\"Weights2\")\n",
    "\n",
    "#------------------------------------------------------------------------------------\n",
    "# Tentukan bias masing-masing lapisan tersembunyi dan keluaran\n",
    "#------------------------------------------------------------------------------------\n",
    "\n",
    "b1 = tf.Variable(tf.zeros([2]), name=\"Bias1\")\n",
    "b2 = tf.Variable(tf.zeros([1]), name=\"Bias2\")\n",
    "\n",
    "#------------------------------------------------------------------------------------\n",
    "# Tentukan hasil akhir melalui operan maju\n",
    "#------------------------------------------------------------------------------------\n",
    "\n",
    "z2 = tf.sigmoid(tf.matmul(x_, w1) + b1)\n",
    "pred = tf.sigmoid(tf.matmul(z2,w2) + b2)\n",
    "\n",
    "#------------------------------------------------------------------------------------\n",
    "# Tentukan fungsi Biaya Cross-entropy / Log-loss berdasarkan label\n",
    "# output y dan probabilitas yang diprediksi oleh forward pass\n",
    "#------------------------------------------------------------------------------------\n",
    "\n",
    "cost = tf.reduce_mean(( (y_ * tf.math.log(pred)) +\n",
    "((1 - y_) * tf.math.log(1.0 - pred)) ) * -1)\n",
    "learning_rate = 0.01\n",
    "train_step = tf.compat.v1.train.GradientDescentOptimizer(learning_rate).minimize(cost)\n",
    "#train_step = tf.keras.optimizers.SGD(learning_rate=learning_rate)\n",
    "\n",
    "\n",
    "#------------------------------------------------------------------------------------\n",
    "# Sekarang setelah dimiliki semua yang dibutuhkan, dimulai pelatihan\n",
    "#------------------------------------------------------------------------------------\n",
    "\n",
    "# Pasangan data latih\n",
    "\n",
    "XOR_X = np.array([\n",
    "    [0, 0],\n",
    "    [0, 1],\n",
    "    [1, 0],\n",
    "    [1, 1]\n",
    "])\n",
    "\n",
    "XOR_Y = np.array([\n",
    "    [0],\n",
    "    [1],\n",
    "    [1],\n",
    "    [0]\n",
    "])\n",
    "\n",
    "#------------------------------------------------------------------------------------\n",
    "# Inisialisasi variabel\n",
    "#------------------------------------------------------------------------------------\n",
    "init = tf.compat.v1.global_variables_initializer()\n",
    "\n",
    "sess = tf.compat.v1.Session()\n",
    "\n",
    "writer = tf.compat.v1.summary.FileWriter(\"./Downloads/XOR_logs\", sess.graph)\n",
    "\n",
    "sess.run(init)\n",
    "for i in range(10):\n",
    "    sess.run(train_step, feed_dict={x_: XOR_X, y_: XOR_Y})\n",
    "\n",
    "Hasil_prediksi = sess.run(pred, feed_dict={x_: XOR_X, y_: XOR_Y})\n",
    "\n",
    "#------------------------------------------------------------------------------------\n",
    "print('Final Prediction', Hasil_prediksi)\n",
    "#------------------------------------------------------------------------------------\n",
    "\n"
   ]
  },
  {
   "cell_type": "code",
   "execution_count": 5,
   "id": "sealed-brown",
   "metadata": {},
   "outputs": [
    {
     "data": {
      "text/plain": [
       "(4, 2)"
      ]
     },
     "execution_count": 5,
     "metadata": {},
     "output_type": "execute_result"
    }
   ],
   "source": [
    "XOR_X.shape"
   ]
  },
  {
   "cell_type": "code",
   "execution_count": 6,
   "id": "southeast-swiss",
   "metadata": {},
   "outputs": [
    {
     "data": {
      "text/plain": [
       "(4, 1)"
      ]
     },
     "execution_count": 6,
     "metadata": {},
     "output_type": "execute_result"
    }
   ],
   "source": [
    "XOR_Y.shape"
   ]
  },
  {
   "cell_type": "code",
   "execution_count": 3,
   "id": "short-botswana",
   "metadata": {},
   "outputs": [
    {
     "data": {
      "image/png": "[encoded data removed]",
      "text/plain": [
       "<Figure size 432x288 with 1 Axes>"
      ]
     },
     "metadata": {
      "needs_background": "light"
     },
     "output_type": "display_data"
    }
   ],
   "source": [
    "import matplotlib.pyplot as plt\n",
    "plt.plot(XOR_Y, 'bo', label='Target', linewidth=2, markersize=12)\n",
    "plt.plot(Hasil_prediksi, 'r+', label='TernsorFlow Output', linewidth=2, markersize=12)\n",
    "plt.legend(loc='upper right')\n",
    "plt.show()\n"
   ]
  },
  {
   "cell_type": "code",
   "execution_count": 4,
   "id": "hawaiian-julian",
   "metadata": {},
   "outputs": [
    {
     "name": "stdout",
     "output_type": "stream",
     "text": [
      "MSE = 0.00034505942448359583\n",
      "RMSE = 0.018575775205454975\n"
     ]
    }
   ],
   "source": [
    "from sklearn.metrics import mean_squared_error\n",
    "from math import sqrt\n",
    "mse1  = mean_squared_error(XOR_Y, Hasil_prediksi)\n",
    "rmse1 = sqrt(mean_squared_error(XOR_Y, Hasil_prediksi))\n",
    "print('MSE =',mse1)\n",
    "print('RMSE =',rmse1)"
   ]
  },
  {
   "cell_type": "code",
   "execution_count": null,
   "id": "elegant-contribution",
   "metadata": {},
   "outputs": [],
   "source": []
  }
 ],
 "metadata": {
  "kernelspec": {
   "display_name": "Python 3",
   "language": "python",
   "name": "python3"
  },
  "language_info": {
   "codemirror_mode": {
    "name": "ipython",
    "version": 3
   },
   "file_extension": ".py",
   "mimetype": "text/x-python",
   "name": "python",
   "nbconvert_exporter": "python",
   "pygments_lexer": "ipython3",
   "version": "3.8.8"
  }
 },
 "nbformat": 4,
 "nbformat_minor": 5
}
